{
 "cells": [
  {
   "cell_type": "markdown",
   "metadata": {},
   "source": [
    "*****Dataprocess.ipynb***** \n",
    "\n",
    "- This file converts raw emails, saved in .txt format, into CSV files after completing the preprocessing and text cleaning process. Also, the file converts the Training dataset (Enron), and the testing AI dataset, which contain my inbox email and AI-generated emails, into two CSV file and save new files in the \"Data/training_Data\" folder."
   ]
  },
  {
   "cell_type": "code",
   "execution_count": 1,
   "metadata": {},
   "outputs": [],
   "source": [
    "# Importing libraries\n",
    "import pandas as pd\n",
    "import csv\n",
    "import string\n",
    "import glob\n",
    "import re\n",
    "import os\n",
    "from nltk.corpus import stopwords\n",
    "from nltk import word_tokenize\n",
    "import text_hammer as th\n",
    "import spacy"
   ]
  },
  {
   "cell_type": "code",
   "execution_count": 2,
   "metadata": {},
   "outputs": [
    {
     "name": "stdout",
     "output_type": "stream",
     "text": [
      "\n",
      "\u001b[1m[\u001b[0m\u001b[34;49mnotice\u001b[0m\u001b[1;39;49m]\u001b[0m\u001b[39;49m A new release of pip is available: \u001b[0m\u001b[31;49m23.1.2\u001b[0m\u001b[39;49m -> \u001b[0m\u001b[32;49m23.2.1\u001b[0m\n",
      "\u001b[1m[\u001b[0m\u001b[34;49mnotice\u001b[0m\u001b[1;39;49m]\u001b[0m\u001b[39;49m To update, run: \u001b[0m\u001b[32;49mpip install --upgrade pip\u001b[0m\n"
     ]
    }
   ],
   "source": [
    "# Dowwnload the en_core_web_sm model for spacy\n",
    "!spacy download en_core_web_sm 1> /dev/null"
   ]
  },
  {
   "cell_type": "code",
   "execution_count": 3,
   "metadata": {},
   "outputs": [],
   "source": [
    "# Please change the path to the data folder\n",
    "dirpath = \"Data/\""
   ]
  },
  {
   "cell_type": "code",
   "execution_count": 4,
   "metadata": {},
   "outputs": [],
   "source": [
    "name_of_raw_hams = [name for name in glob.glob(f'{dirpath}Training_Data/ham/*.txt')]\n",
    "name_of_raw_spams = [name for name in glob.glob(f'{dirpath}Training_Data/spam/*.txt')]\n",
    "list_of_csv_ham = []\n",
    "list_of_csv_spam = []"
   ]
  },
  {
   "cell_type": "code",
   "execution_count": 5,
   "metadata": {},
   "outputs": [],
   "source": [
    "# Combine ham emails to list_of_csv_ham\n",
    "for ham in name_of_raw_hams:\n",
    "    ham_content = pd.read_csv(ham, sep='delimiter', header=None,engine='python')\n",
    "    list_of_csv_ham.append(ham_content)\n",
    "# Combine spam emails to list_of_csv_spam\n",
    "for spam in name_of_raw_spams:\n",
    "    spam_content = pd.read_csv(spam, sep='delimiter', header=None,engine='python')\n",
    "    list_of_csv_spam.append(spam_content)\n",
    "# Convert to data frames\n",
    "df_hams = pd.concat(list_of_csv_ham).reset_index(drop=True)\n",
    "df_spams = pd.concat(list_of_csv_spam).reset_index(drop=True)\n",
    "# Add the label column\n",
    "df_hams['y'] = [0] * len(df_hams)\n",
    "df_spams['y'] = [1] * len(df_spams)"
   ]
  },
  {
   "cell_type": "code",
   "execution_count": 6,
   "metadata": {},
   "outputs": [
    {
     "name": "stdout",
     "output_type": "stream",
     "text": [
      "Number of HAM mails =   403551\n",
      "Number of SPAM mails =   263650\n"
     ]
    }
   ],
   "source": [
    "print(f\"Number of HAM mails =   {len(df_hams)}\")\n",
    "print(f\"Number of SPAM mails =   {len(df_spams)}\")"
   ]
  },
  {
   "cell_type": "code",
   "execution_count": 7,
   "metadata": {},
   "outputs": [],
   "source": [
    "# Update column names\n",
    "col_name = {0: 'X', 'y': 'y'}\n",
    "df_hams = df_hams.rename(columns=col_name)\n",
    "df_spams = df_spams.rename(columns=col_name)"
   ]
  },
  {
   "cell_type": "code",
   "execution_count": 8,
   "metadata": {},
   "outputs": [],
   "source": [
    "# Concatenate to a full dataset\n",
    "df = pd.concat([df_hams, df_spams], axis=0)"
   ]
  },
  {
   "cell_type": "code",
   "execution_count": 9,
   "metadata": {},
   "outputs": [],
   "source": [
    "# Randomly shuffle rows to mix ham emails with spam ones\n",
    "df = df.sample(frac = 1).reset_index(drop=True)"
   ]
  },
  {
   "cell_type": "code",
   "execution_count": null,
   "metadata": {},
   "outputs": [
    {
     "data": {
      "text/plain": [
       "(667201, 2)"
      ]
     },
     "metadata": {},
     "output_type": "display_data"
    },
    {
     "data": {
      "text/html": [
       "<div>\n",
       "<style scoped>\n",
       "    .dataframe tbody tr th:only-of-type {\n",
       "        vertical-align: middle;\n",
       "    }\n",
       "\n",
       "    .dataframe tbody tr th {\n",
       "        vertical-align: top;\n",
       "    }\n",
       "\n",
       "    .dataframe thead th {\n",
       "        text-align: right;\n",
       "    }\n",
       "</style>\n",
       "<table border=\"1\" class=\"dataframe\">\n",
       "  <thead>\n",
       "    <tr style=\"text-align: right;\">\n",
       "      <th></th>\n",
       "      <th>X</th>\n",
       "      <th>y</th>\n",
       "    </tr>\n",
       "  </thead>\n",
       "  <tbody>\n",
       "    <tr>\n",
       "      <th>0</th>\n",
       "      <td>from : kitchen , louise</td>\n",
       "      <td>0</td>\n",
       "    </tr>\n",
       "    <tr>\n",
       "      <th>1</th>\n",
       "      <td>dualism croquet haley insurmountable reformato...</td>\n",
       "      <td>1</td>\n",
       "    </tr>\n",
       "    <tr>\n",
       "      <th>2</th>\n",
       "      <td>some people complain because the roses have th...</td>\n",
       "      <td>1</td>\n",
       "    </tr>\n",
       "    <tr>\n",
       "      <th>3</th>\n",
       "      <td>the reaction to the idea that mr lay would pro...</td>\n",
       "      <td>0</td>\n",
       "    </tr>\n",
       "    <tr>\n",
       "      <th>4</th>\n",
       "      <td>the juno software . your e - mail messages wil...</td>\n",
       "      <td>0</td>\n",
       "    </tr>\n",
       "    <tr>\n",
       "      <th>5</th>\n",
       "      <td>able to continue as a going concern in which c...</td>\n",
       "      <td>1</td>\n",
       "    </tr>\n",
       "    <tr>\n",
       "      <th>6</th>\n",
       "      <td>administration involvement</td>\n",
       "      <td>0</td>\n",
       "    </tr>\n",
       "    <tr>\n",
       "      <th>7</th>\n",
       "      <td>by simon english .</td>\n",
       "      <td>0</td>\n",
       "    </tr>\n",
       "    <tr>\n",
       "      <th>8</th>\n",
       "      <td>please respond to</td>\n",
       "      <td>0</td>\n",
       "    </tr>\n",
       "    <tr>\n",
       "      <th>9</th>\n",
       "      <td>your online sales dramatically .</td>\n",
       "      <td>1</td>\n",
       "    </tr>\n",
       "  </tbody>\n",
       "</table>\n",
       "</div>"
      ],
      "text/plain": [
       "                                                   X  y\n",
       "0                            from : kitchen , louise  0\n",
       "1  dualism croquet haley insurmountable reformato...  1\n",
       "2  some people complain because the roses have th...  1\n",
       "3  the reaction to the idea that mr lay would pro...  0\n",
       "4  the juno software . your e - mail messages wil...  0\n",
       "5  able to continue as a going concern in which c...  1\n",
       "6                         administration involvement  0\n",
       "7                                 by simon english .  0\n",
       "8                                  please respond to  0\n",
       "9                   your online sales dramatically .  1"
      ]
     },
     "metadata": {},
     "output_type": "display_data"
    },
    {
     "data": {
      "text/html": [
       "<div>\n",
       "<style scoped>\n",
       "    .dataframe tbody tr th:only-of-type {\n",
       "        vertical-align: middle;\n",
       "    }\n",
       "\n",
       "    .dataframe tbody tr th {\n",
       "        vertical-align: top;\n",
       "    }\n",
       "\n",
       "    .dataframe thead th {\n",
       "        text-align: right;\n",
       "    }\n",
       "</style>\n",
       "<table border=\"1\" class=\"dataframe\">\n",
       "  <thead>\n",
       "    <tr style=\"text-align: right;\">\n",
       "      <th></th>\n",
       "      <th>X</th>\n",
       "      <th>y</th>\n",
       "    </tr>\n",
       "  </thead>\n",
       "  <tbody>\n",
       "    <tr>\n",
       "      <th>667191</th>\n",
       "      <td>* 0 . 5 rcvd _ in _ njabl _ proxy rbl : njabl ...</td>\n",
       "      <td>1</td>\n",
       "    </tr>\n",
       "    <tr>\n",
       "      <th>667192</th>\n",
       "      <td>hello , and save up to 80 %</td>\n",
       "      <td>1</td>\n",
       "    </tr>\n",
       "    <tr>\n",
       "      <th>667193</th>\n",
       "      <td>spamassassin - sightings mailing list</td>\n",
       "      <td>1</td>\n",
       "    </tr>\n",
       "    <tr>\n",
       "      <th>667194</th>\n",
       "      <td>subject : tony hamilton</td>\n",
       "      <td>0</td>\n",
       "    </tr>\n",
       "    <tr>\n",
       "      <th>667195</th>\n",
       "      <td>stationery and web - sites . under our careful...</td>\n",
       "      <td>1</td>\n",
       "    </tr>\n",
       "    <tr>\n",
       "      <th>667196</th>\n",
       "      <td>welcome to rx - pills online discount pharmacy...</td>\n",
       "      <td>1</td>\n",
       "    </tr>\n",
       "    <tr>\n",
       "      <th>667197</th>\n",
       "      <td>vince j kaminski</td>\n",
       "      <td>0</td>\n",
       "    </tr>\n",
       "    <tr>\n",
       "      <th>667198</th>\n",
       "      <td>approval to writeoff the volumes to unaccounte...</td>\n",
       "      <td>0</td>\n",
       "    </tr>\n",
       "    <tr>\n",
       "      <th>667199</th>\n",
       "      <td>02 / 17 / 00 04 : 10 pm</td>\n",
       "      <td>0</td>\n",
       "    </tr>\n",
       "    <tr>\n",
       "      <th>667200</th>\n",
       "      <td>we also supply target email list according to ...</td>\n",
       "      <td>1</td>\n",
       "    </tr>\n",
       "  </tbody>\n",
       "</table>\n",
       "</div>"
      ],
      "text/plain": [
       "                                                        X  y\n",
       "667191  * 0 . 5 rcvd _ in _ njabl _ proxy rbl : njabl ...  1\n",
       "667192                        hello , and save up to 80 %  1\n",
       "667193              spamassassin - sightings mailing list  1\n",
       "667194                            subject : tony hamilton  0\n",
       "667195  stationery and web - sites . under our careful...  1\n",
       "667196  welcome to rx - pills online discount pharmacy...  1\n",
       "667197                                   vince j kaminski  0\n",
       "667198  approval to writeoff the volumes to unaccounte...  0\n",
       "667199                            02 / 17 / 00 04 : 10 pm  0\n",
       "667200  we also supply target email list according to ...  1"
      ]
     },
     "metadata": {},
     "output_type": "display_data"
    }
   ],
   "source": [
    "display(df.shape)\n",
    "display(df.head(10))\n",
    "display(df.tail(10))"
   ]
  },
  {
   "cell_type": "code",
   "execution_count": 10,
   "metadata": {},
   "outputs": [],
   "source": [
    "# Creating a function for text cleaning \n",
    "\n",
    "def text_cleaning(df,col_name):\n",
    "    #-----Remove Stopwords----\n",
    "    df[col_name] = df[col_name].progress_apply(lambda x: th.remove_stopwords(x))\n",
    "    #----Remove Special Character----\n",
    "    df[col_name] = df[col_name].progress_apply(lambda x: th.remove_special_chars(x))\n",
    "    #---Remove accented characters---\n",
    "    df[col_name] = df[col_name].progress_apply(lambda x: th.remove_accented_chars(x))\n",
    "    # ---Removing HTML tags and URL---\n",
    "    df[col_name] = df[col_name].progress_apply(lambda x: th.remove_html_tags(x))\n",
    "    df[col_name] = df[col_name].progress_apply(lambda x: th.remove_urls(x))\n",
    "    #--- Converting into root words--\n",
    "    df[col_name] = df[col_name].progress_apply(lambda x: th.make_base(x))                                      \n",
    "    return df"
   ]
  },
  {
   "cell_type": "code",
   "execution_count": 12,
   "metadata": {},
   "outputs": [
    {
     "data": {
      "application/vnd.jupyter.widget-view+json": {
       "model_id": "30973e5a14d9436c9b2b4d061c334e61",
       "version_major": 2,
       "version_minor": 0
      },
      "text/plain": [
       "  0%|          | 0/667201 [00:00<?, ?it/s]"
      ]
     },
     "metadata": {},
     "output_type": "display_data"
    },
    {
     "data": {
      "application/vnd.jupyter.widget-view+json": {
       "model_id": "a4adac71f6554a58a2e435c286748a57",
       "version_major": 2,
       "version_minor": 0
      },
      "text/plain": [
       "  0%|          | 0/667201 [00:00<?, ?it/s]"
      ]
     },
     "metadata": {},
     "output_type": "display_data"
    },
    {
     "data": {
      "application/vnd.jupyter.widget-view+json": {
       "model_id": "d4fbc5c6059c4080832367a12500d79c",
       "version_major": 2,
       "version_minor": 0
      },
      "text/plain": [
       "  0%|          | 0/667201 [00:00<?, ?it/s]"
      ]
     },
     "metadata": {},
     "output_type": "display_data"
    },
    {
     "data": {
      "application/vnd.jupyter.widget-view+json": {
       "model_id": "4a92bd0ababc4d5fab981e6c4b7d8f6e",
       "version_major": 2,
       "version_minor": 0
      },
      "text/plain": [
       "  0%|          | 0/667201 [00:00<?, ?it/s]"
      ]
     },
     "metadata": {},
     "output_type": "display_data"
    },
    {
     "name": "stderr",
     "output_type": "stream",
     "text": [
      "/Users/lasantha/Desktop/Project3/env/lib/python3.11/site-packages/bs4/__init__.py:329: MarkupResemblesLocatorWarning: \"data\" looks like a filename, not markup. You should probably open this file and pass the filehandle into Beautiful Soup.\n",
      "  warnings.warn(\n"
     ]
    },
    {
     "data": {
      "application/vnd.jupyter.widget-view+json": {
       "model_id": "3bcc0304e6be456e9c76b33451a83404",
       "version_major": 2,
       "version_minor": 0
      },
      "text/plain": [
       "  0%|          | 0/667201 [00:00<?, ?it/s]"
      ]
     },
     "metadata": {},
     "output_type": "display_data"
    },
    {
     "data": {
      "application/vnd.jupyter.widget-view+json": {
       "model_id": "3e6fd21c54cd4a219ef09f000bf65408",
       "version_major": 2,
       "version_minor": 0
      },
      "text/plain": [
       "  0%|          | 0/667201 [00:00<?, ?it/s]"
      ]
     },
     "metadata": {},
     "output_type": "display_data"
    }
   ],
   "source": [
    "\n",
    "df = text_cleaning(df, 'X')"
   ]
  },
  {
   "cell_type": "code",
   "execution_count": 13,
   "metadata": {},
   "outputs": [
    {
     "data": {
      "text/plain": [
       "y\n",
       "0    403551\n",
       "1    263650\n",
       "dtype: int64"
      ]
     },
     "execution_count": 13,
     "metadata": {},
     "output_type": "execute_result"
    }
   ],
   "source": [
    "# Count how many entries exist for each label\n",
    "df.value_counts('y')"
   ]
  },
  {
   "cell_type": "code",
   "execution_count": null,
   "metadata": {},
   "outputs": [],
   "source": [
    "# Save as cleaned data frame\n",
    "df.to_csv(f'{dirpath}Training_Data/emails_cleaned_final.csv', index=False)\n"
   ]
  },
  {
   "cell_type": "markdown",
   "metadata": {},
   "source": [
    "### Create a Testing Data set from AI generated Sample Mail."
   ]
  },
  {
   "cell_type": "code",
   "execution_count": 15,
   "metadata": {},
   "outputs": [],
   "source": [
    "raw_AI_Spam_mails =[]\n",
    "raw_AI_Spam_mails = [name for name in glob.glob(f'{dirpath}AI_dataset/Spam/*.txt')]\n",
    "raw_AI_Ham_mails =[]\n",
    "raw_AI_Ham_mails = [name for name in glob.glob(f'{dirpath}AI_dataset/Ham/*.txt')]\n"
   ]
  },
  {
   "cell_type": "code",
   "execution_count": 16,
   "metadata": {},
   "outputs": [
    {
     "name": "stdout",
     "output_type": "stream",
     "text": [
      "Numer of AI Generated sample mails:  201\n",
      "Numer of real world Ham mails:  67\n"
     ]
    }
   ],
   "source": [
    " # Combine Ai generated emails to one csv file\n",
    "csv_AI_Spam_mails = []\n",
    "for mails in raw_AI_Spam_mails:\n",
    "    Ai_content = pd.read_csv(mails, sep='delimiter', header=None, engine='python')\n",
    "    csv_AI_Spam_mails.append(Ai_content)\n",
    "print(f\"Numer of AI Generated sample mails:  {len(csv_AI_Spam_mails)}\")\n",
    "\n",
    "csv_AI_Ham_mails = []\n",
    "for mails in raw_AI_Ham_mails:\n",
    "    Ai_content = pd.read_csv(mails, sep='delimiter', header=None, engine='python')\n",
    "    csv_AI_Ham_mails.append(Ai_content)\n",
    "\n",
    "print(f\"Numer of real world Ham mails:  {len(csv_AI_Ham_mails)}\")"
   ]
  },
  {
   "cell_type": "code",
   "execution_count": 17,
   "metadata": {},
   "outputs": [
    {
     "data": {
      "text/html": [
       "<div>\n",
       "<style scoped>\n",
       "    .dataframe tbody tr th:only-of-type {\n",
       "        vertical-align: middle;\n",
       "    }\n",
       "\n",
       "    .dataframe tbody tr th {\n",
       "        vertical-align: top;\n",
       "    }\n",
       "\n",
       "    .dataframe thead th {\n",
       "        text-align: right;\n",
       "    }\n",
       "</style>\n",
       "<table border=\"1\" class=\"dataframe\">\n",
       "  <thead>\n",
       "    <tr style=\"text-align: right;\">\n",
       "      <th></th>\n",
       "      <th>XAI</th>\n",
       "      <th>YAI</th>\n",
       "    </tr>\n",
       "  </thead>\n",
       "  <tbody>\n",
       "    <tr>\n",
       "      <th>0</th>\n",
       "      <td>Hi William,</td>\n",
       "      <td>1</td>\n",
       "    </tr>\n",
       "    <tr>\n",
       "      <th>1</th>\n",
       "      <td>I hope this email finds you well. I came acros...</td>\n",
       "      <td>1</td>\n",
       "    </tr>\n",
       "    <tr>\n",
       "      <th>2</th>\n",
       "      <td>At XYZ-Edu, we have a course called Practical ...</td>\n",
       "      <td>1</td>\n",
       "    </tr>\n",
       "    <tr>\n",
       "      <th>3</th>\n",
       "      <td>The course provides insights into real-world a...</td>\n",
       "      <td>1</td>\n",
       "    </tr>\n",
       "    <tr>\n",
       "      <th>4</th>\n",
       "      <td>To make it even more appealing, we are offerin...</td>\n",
       "      <td>1</td>\n",
       "    </tr>\n",
       "    <tr>\n",
       "      <th>...</th>\n",
       "      <td>...</td>\n",
       "      <td>...</td>\n",
       "    </tr>\n",
       "    <tr>\n",
       "      <th>2506</th>\n",
       "      <td>TikTok logo</td>\n",
       "      <td>0</td>\n",
       "    </tr>\n",
       "    <tr>\n",
       "      <th>2507</th>\n",
       "      <td>infopoint@uwe.ac.uk</td>\n",
       "      <td>0</td>\n",
       "    </tr>\n",
       "    <tr>\n",
       "      <th>2508</th>\n",
       "      <td>+44 (0)117 32 85678</td>\n",
       "      <td>0</td>\n",
       "    </tr>\n",
       "    <tr>\n",
       "      <th>2509</th>\n",
       "      <td>UWE Bristol, Frenchay Campus, Coldharbour Lane...</td>\n",
       "      <td>0</td>\n",
       "    </tr>\n",
       "    <tr>\n",
       "      <th>2510</th>\n",
       "      <td>We promise not to overwhelm you and will only ...</td>\n",
       "      <td>0</td>\n",
       "    </tr>\n",
       "  </tbody>\n",
       "</table>\n",
       "<p>4320 rows × 2 columns</p>\n",
       "</div>"
      ],
      "text/plain": [
       "                                                    XAI  YAI\n",
       "0                                           Hi William,    1\n",
       "1     I hope this email finds you well. I came acros...    1\n",
       "2     At XYZ-Edu, we have a course called Practical ...    1\n",
       "3     The course provides insights into real-world a...    1\n",
       "4     To make it even more appealing, we are offerin...    1\n",
       "...                                                 ...  ...\n",
       "2506                                        TikTok logo    0\n",
       "2507                                infopoint@uwe.ac.uk    0\n",
       "2508                                +44 (0)117 32 85678    0\n",
       "2509  UWE Bristol, Frenchay Campus, Coldharbour Lane...    0\n",
       "2510  We promise not to overwhelm you and will only ...    0\n",
       "\n",
       "[4320 rows x 2 columns]"
      ]
     },
     "execution_count": 17,
     "metadata": {},
     "output_type": "execute_result"
    }
   ],
   "source": [
    "# Convert to data frames\n",
    "df_Ai_Spam_mails = pd.concat(csv_AI_Spam_mails).reset_index(drop=True)\n",
    "# Add the label column\n",
    "df_Ai_Spam_mails['y'] = [1] * len(df_Ai_Spam_mails)\n",
    "\n",
    "df_Ai_Ham_mails = pd.concat(csv_AI_Ham_mails).reset_index(drop=True)\n",
    "# Add the label column\n",
    "df_Ai_Ham_mails['y'] = [0] * len(df_Ai_Ham_mails)\n",
    "\n",
    "# concatinate both data frames real mails and AI generated mails\n",
    "df_Ai_mails = pd.concat([df_Ai_Spam_mails, df_Ai_Ham_mails], axis=0)\n",
    "\n",
    "# update column names\n",
    "col_name = {0: 'XAI', 'y': 'YAI'}\n",
    "df_Ai_mails = df_Ai_mails.rename(columns=col_name)\n",
    "df_Ai_mails"
   ]
  },
  {
   "cell_type": "code",
   "execution_count": 18,
   "metadata": {},
   "outputs": [
    {
     "data": {
      "application/vnd.jupyter.widget-view+json": {
       "model_id": "0c14590a23e24f2586d08715b5ed4a25",
       "version_major": 2,
       "version_minor": 0
      },
      "text/plain": [
       "  0%|          | 0/4320 [00:00<?, ?it/s]"
      ]
     },
     "metadata": {},
     "output_type": "display_data"
    },
    {
     "data": {
      "application/vnd.jupyter.widget-view+json": {
       "model_id": "a04526ce94954f059100b40f06d4803d",
       "version_major": 2,
       "version_minor": 0
      },
      "text/plain": [
       "  0%|          | 0/4320 [00:00<?, ?it/s]"
      ]
     },
     "metadata": {},
     "output_type": "display_data"
    },
    {
     "data": {
      "application/vnd.jupyter.widget-view+json": {
       "model_id": "d5a810723dc249eeb902f178f0702a29",
       "version_major": 2,
       "version_minor": 0
      },
      "text/plain": [
       "  0%|          | 0/4320 [00:00<?, ?it/s]"
      ]
     },
     "metadata": {},
     "output_type": "display_data"
    },
    {
     "data": {
      "application/vnd.jupyter.widget-view+json": {
       "model_id": "d1b05230a7594314a176dfaa2fdbe811",
       "version_major": 2,
       "version_minor": 0
      },
      "text/plain": [
       "  0%|          | 0/4320 [00:00<?, ?it/s]"
      ]
     },
     "metadata": {},
     "output_type": "display_data"
    },
    {
     "data": {
      "application/vnd.jupyter.widget-view+json": {
       "model_id": "d060106cd96a43f396d58f86d1a75f88",
       "version_major": 2,
       "version_minor": 0
      },
      "text/plain": [
       "  0%|          | 0/4320 [00:00<?, ?it/s]"
      ]
     },
     "metadata": {},
     "output_type": "display_data"
    },
    {
     "data": {
      "application/vnd.jupyter.widget-view+json": {
       "model_id": "6bddf51ca21d458e842c35f09e3a545e",
       "version_major": 2,
       "version_minor": 0
      },
      "text/plain": [
       "  0%|          | 0/4320 [00:00<?, ?it/s]"
      ]
     },
     "metadata": {},
     "output_type": "display_data"
    }
   ],
   "source": [
    "df_Ai_mails = text_cleaning(df_Ai_mails, 'XAI')"
   ]
  },
  {
   "cell_type": "code",
   "execution_count": 19,
   "metadata": {},
   "outputs": [],
   "source": [
    "# Save as cleaned data frame\n",
    "df_Ai_mails.to_csv(\"Data/Training_Data/AI_emails_cleaned_final.csv\", index=False)\n"
   ]
  }
 ],
 "metadata": {
  "kernelspec": {
   "display_name": "env",
   "language": "python",
   "name": "python3"
  },
  "language_info": {
   "codemirror_mode": {
    "name": "ipython",
    "version": 3
   },
   "file_extension": ".py",
   "mimetype": "text/x-python",
   "name": "python",
   "nbconvert_exporter": "python",
   "pygments_lexer": "ipython3",
   "version": "3.11.4"
  },
  "orig_nbformat": 4
 },
 "nbformat": 4,
 "nbformat_minor": 2
}
