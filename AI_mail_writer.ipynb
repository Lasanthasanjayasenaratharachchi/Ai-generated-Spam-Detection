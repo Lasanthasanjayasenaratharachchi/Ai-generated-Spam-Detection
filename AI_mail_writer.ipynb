{
  "cells": [
    {
      "cell_type": "markdown",
      "metadata": {},
      "source": [
        "***AI_mail_writer***\n"
      ]
    },
    {
      "cell_type": "markdown",
      "metadata": {},
      "source": [
        "This file writes Emails using OpenAI API and Langchain and saves new emails in the \"Data/Training_Data/Spam\" folder. Once you run the file, the Popup window will ask you to input the required number of mails you want to generate so please key in the amount. Also, The program pushes Langchain summarised data into the OpenAI API GPT4 model, and this is a paid service. The API key is saved in \"Data/APIKEY/key.txt\" file. Please feel free to use it as much as you want for your marking process. in this process, the author used multiple Imaginary user profiles and course details to feed to the AI model to generate outputs. That information is saved in text files in the “Data/users” and “Data/Course_list” folders. All those names and details are Imaginary."
      ]
    },
    {
      "cell_type": "code",
      "execution_count": 17,
      "metadata": {
        "id": "6vDDM-sXzE1j"
      },
      "outputs": [],
      "source": [
        "# import libraries\n",
        "import pandas as pd\n",
        "import random\n",
        "import time\n",
        "import os\n",
        "import nltk\n",
        "from langchain.document_loaders import DirectoryLoader, TextLoader, PyPDFLoader\n",
        "from langchain.text_splitter import RecursiveCharacterTextSplitter\n",
        "from langchain.prompts import PromptTemplate\n",
        "from langchain.document_loaders import UnstructuredURLLoader\n",
        "from langchain.chains.summarize import load_summarize_chain\n",
        "from langchain.llms import OpenAI\n",
        "from langchain.text_splitter import RecursiveCharacterTextSplitter\n",
        "from langchain.document_loaders import SeleniumURLLoader,PlaywrightURLLoader\n",
        "from langchain.chat_models import ChatOpenAI\n",
        "from pandas.io.formats.format import FilePath"
      ]
    },
    {
      "cell_type": "code",
      "execution_count": 18,
      "metadata": {
        "id": "BCe3Tv3vzE1n"
      },
      "outputs": [],
      "source": [
        "# text splitter for the text\n",
        "text_splitter = RecursiveCharacterTextSplitter(chunk_size=800, chunk_overlap=0)"
      ]
    },
    {
      "cell_type": "code",
      "execution_count": 20,
      "metadata": {
        "id": "c0PH57Ak_SrD"
      },
      "outputs": [],
      "source": [
        "# Please set your Data Directory path\n",
        "dirpath = \"Data/\""
      ]
    },
    {
      "cell_type": "markdown",
      "metadata": {},
      "source": [
        "#### Import Api key which is generated from OpenAI\n"
      ]
    },
    {
      "cell_type": "code",
      "execution_count": 21,
      "metadata": {
        "id": "Sfd0dXTVzE1o"
      },
      "outputs": [],
      "source": [
        "# Import API key. from key.txt file in Data/APIKEY folder\n",
        "key = open(f\"{dirpath}APIKEY/key.txt\", \"r\")\n",
        "OPENAI_API_KEY=key.read()\n",
        "key.close()\n"
      ]
    },
    {
      "cell_type": "markdown",
      "metadata": {
        "id": "93Xsg7UVzE1o"
      },
      "source": [
        "### Course details"
      ]
    },
    {
      "cell_type": "code",
      "execution_count": null,
      "metadata": {
        "id": "AorMcckCzE1q"
      },
      "outputs": [],
      "source": [
        "#  Function to get the course details\n",
        "def get_product_details(filepath):\n",
        "    df_courses = pd.read_csv(f\"{filepath}course_list.csv\")\n",
        "    rand =random.randint(0, len(df_courses) - 1)\n",
        "    course= df_courses.iloc[rand].Course\n",
        "    courseURL = df_courses.iloc[rand].URL\n",
        "    # print(course+ \" \\n\" + courseURL)\n",
        "\n",
        "    product_loader = TextLoader(f\"{filepath}{course}.txt\")\n",
        "    Product_details = product_loader.load()\n",
        "    Product_details_text = text_splitter.split_documents(Product_details)\n",
        "    return (course, courseURL, Product_details_text)\n"
      ]
    },
    {
      "cell_type": "code",
      "execution_count": 23,
      "metadata": {
        "id": "BuPULxQKzE1q"
      },
      "outputs": [],
      "source": [
        "# overview of the company which will be used in the email\n",
        "company_information = \"\"\"Step into the world of cybersecurity with XYZ-Edu, a veteran-founded academy. Gain hands-on expertise in penetration testing,\n",
        " security training, and compliance services. Our certified instructors, equipped with government clearances, will guide you to become a skilled Practical Network Penetration Tester (PNPT).\n",
        " Launch your cyber career with confidence at XYZ-Edu!\"\"\""
      ]
    },
    {
      "cell_type": "code",
      "execution_count": 24,
      "metadata": {
        "id": "Gcqs6thOzE1r"
      },
      "outputs": [],
      "source": [
        "#  Langchain map prompt template\n",
        "map_prompt = \"\"\"Below is the details about the {course}\n",
        "Write a concise summary about {course}.\n",
        "{text}\n",
        "\n",
        "% CONCISE SUMMARY:\"\"\"\n",
        "map_prompt_template = PromptTemplate(template=map_prompt, input_variables=[\"text\", \"course\"])"
      ]
    },
    {
      "cell_type": "code",
      "execution_count": 25,
      "metadata": {
        "id": "zn856U5NzE1r"
      },
      "outputs": [],
      "source": [
        "# Langchain combine prompt template\n",
        "combine_prompt = \"\"\"\n",
        "*   Your goal is to write a personalised non-spammy outbound email from {sales_rep}, a sales rep at {company} to {target_person}. Please note that the email should offer a 20% /discount on this course for the first 100 students.\n",
        "*   Start the email how {course} can helps to {target_person} to achieve his interests/improve expertise.\n",
        "*   An excellent personalised email, and how important it is to use {course} to {target_person} according to the {target_Person_details_text}.\n",
        "*   Be sure to use value selling and avoid spammy words: A sales methodology focusing on how your product or service will provide value to the customer instead of focusing on price or solution.\n",
        "*   The email should be written in British English, Start with \"Hi\" and at the end of the email, say \"Thank you\", and should be written in human language style, and it has to pass through the AI detection tools.\n",
        "*   Email length should be around 100-200 words long.\n",
        "*   Important: Please insert this course URL: {courseURL} into the body of the email.\n",
        "\n",
        "\n",
        "% INFORMATION ABOUT {target_person}:\n",
        "{target_Person_details_text}\n",
        "\n",
        "% INFORMATION ABOUT {course}:\n",
        "\n",
        "{text}\n",
        "\n",
        "# % INCLUDE THE FOLLOWING DETAILS IN YOUR RESPONSE:\n",
        " Necessary: Please insert this link  “https://xyz-edu.com/newsletter/unsubscribe”  into the body of the email.\n",
        "\n",
        "% YOUR RESPONSE:\n",
        "\"\"\"\n",
        "combine_prompt_template = PromptTemplate(template=combine_prompt, input_variables=[\"sales_rep\", \"company\", \"course\", \"target_person\", \"target_Person_details_text\", \"text\", \"courseURL\"])\n"
      ]
    },
    {
      "cell_type": "code",
      "execution_count": 26,
      "metadata": {
        "id": "pBIi2z0MzE1s"
      },
      "outputs": [],
      "source": [
        "# Define the LLM and the chain\n",
        "llm = ChatOpenAI(model_name=\"gpt-4\", temperature=0.8, openai_api_key=OPENAI_API_KEY)\n",
        "\n",
        "chain = load_summarize_chain(llm,\n",
        "                             chain_type=\"map_reduce\",\n",
        "                             map_prompt=map_prompt_template,\n",
        "                             combine_prompt=combine_prompt_template,\n",
        "                             verbose=True\n",
        "                            )\n"
      ]
    },
    {
      "cell_type": "code",
      "execution_count": 27,
      "metadata": {
        "id": "zK_uHD3fzE1t"
      },
      "outputs": [],
      "source": [
        "#  Define the target person and load the target person's profile and details\n",
        "\n",
        "def get_target_person(path_to_file):\n",
        "    df_target_person = pd.read_csv(f\"{path_to_file}users/target_person.csv\")\n",
        "    random_person = random.randint(0, len(df_target_person)-1)\n",
        "    target_person = df_target_person.iloc[random_person].Name\n",
        "    print (f\"Target person: {target_person}\")\n",
        "    target_person_profile = df_target_person.iloc[random_person].Profile\n",
        "    print(target_person_profile)\n",
        "    Target_loader = TextLoader(f\"{path_to_file}users/{target_person}.txt\")\n",
        "    target_Person_details = Target_loader.load()\n",
        "    print(target_Person_details)\n",
        "    target_Person_details_text = text_splitter.split_documents(target_Person_details)\n",
        "    return target_person, target_Person_details_text\n",
        "\n"
      ]
    },
    {
      "cell_type": "code",
      "execution_count": 28,
      "metadata": {
        "id": "q7X5Lcm-zE1t"
      },
      "outputs": [
        {
          "name": "stdout",
          "output_type": "stream",
          "text": [
            "Target person: Sarah Lee\n",
            "https://www.linkedin.com/in/sarahlee\n",
            "[Document(page_content='Name: Sarah Lee\\nHeadline: Cyber Security Student | Aspiring Cyber Defense Specialist\\n\\nSummary:\\nMotivated Cyber Security student pursuing a career in cyber defense. Adept at identifying and neutralizing cyber threats to safeguard digital assets and privacy.\\n\\nEducation:\\n\\nBachelor of Science in Cyber Security | GHI University | Graduation: August 2024\\nCertifications:\\n\\nCompTIA Security+ | CompTIA | Certified in February 2023\\nSkills:\\n\\nCyber Defense\\nSecurity Monitoring\\nIntrusion Detection\\nThreat Hunting\\nSecurity Tools: Snort, Zeek\\nProgramming: Python, C\\nContact:\\n\\nEmail: sarah.lee@email.com\\nLinkedIn: linkedin.com/in/sarahlee', metadata={'source': 'Data/users/Sarah Lee.txt'})]\n",
            "\n",
            "\n",
            "\n",
            "Course : Practical Malware Analysis & Triage\n",
            "Course URL : https://academy.xyz-edu.com/p/practical-malware-analysis-triage\n",
            "You have 2 Course document(s) in your data\n",
            "\n",
            "\n",
            "\u001b[1m> Entering new MapReduceDocumentsChain chain...\u001b[0m\n",
            "\n",
            "\n",
            "\u001b[1m> Entering new LLMChain chain...\u001b[0m\n",
            "Prompt after formatting:\n",
            "\u001b[32;1m\u001b[1;3mBelow is the details about the Practical Malware Analysis & Triage\n",
            "Write a concise summary about Practical Malware Analysis & Triage.\n",
            "Equip yourself with the power of knowledge and take the battle to the adversaries! Immerse yourself in the world of Practical Malware Analysis & Triage (PMAT), where cutting-edge malware analysis techniques are at your fingertips. Engaging instructional videos and hands-on practical labs provide you with an immersive learning experience.\n",
            "\n",
            "Welcome to the realm of Practical Malware Analysis & Triage. I'm your guide, Matt, also known as HuskyHacks. As your instructor, I'm thrilled to take you on this journey. Join me as we delve into the intricacies of splicing, slicing, scrutinizing, and dissecting malware samples.\n",
            "\n",
            "% CONCISE SUMMARY:\u001b[0m\n",
            "Prompt after formatting:\n",
            "\u001b[32;1m\u001b[1;3mBelow is the details about the Practical Malware Analysis & Triage\n",
            "Write a concise summary about Practical Malware Analysis & Triage.\n",
            "Experience two dynamic options for building malware analysis labs: local virtual machines and a swiftly deployable cloud-based malware analysis network. Master the art of creating a malware analysis network on AWS, accessible from any corner of the globe!\n",
            "\n",
            "Join us in Practical Malware Analysis & Triage, where expertise meets hands-on engagement, and you gain the power to decipher the intricate world of malware analysis.\n",
            "\n",
            "% CONCISE SUMMARY:\u001b[0m\n",
            "\n",
            "\u001b[1m> Finished chain.\u001b[0m\n",
            "\n",
            "\n",
            "\u001b[1m> Entering new LLMChain chain...\u001b[0m\n",
            "Prompt after formatting:\n",
            "\u001b[32;1m\u001b[1;3m\n",
            "*   Your goal is to write a personalised non-spammy outbound email from Greg, a sales rep at XYZ-Edu to Sarah Lee. Please note that the email should offer a 20% /discount on this course for the first 100 students.\n",
            "*   Start the email how Practical Malware Analysis & Triage can helps to Sarah Lee to achieve his interests/improve expertise.\n",
            "*   An excellent personalised email, and how important it is to use Practical Malware Analysis & Triage to Sarah Lee according to the [Document(page_content='Name: Sarah Lee\\nHeadline: Cyber Security Student | Aspiring Cyber Defense Specialist\\n\\nSummary:\\nMotivated Cyber Security student pursuing a career in cyber defense. Adept at identifying and neutralizing cyber threats to safeguard digital assets and privacy.\\n\\nEducation:\\n\\nBachelor of Science in Cyber Security | GHI University | Graduation: August 2024\\nCertifications:\\n\\nCompTIA Security+ | CompTIA | Certified in February 2023\\nSkills:\\n\\nCyber Defense\\nSecurity Monitoring\\nIntrusion Detection\\nThreat Hunting\\nSecurity Tools: Snort, Zeek\\nProgramming: Python, C\\nContact:\\n\\nEmail: sarah.lee@email.com\\nLinkedIn: linkedin.com/in/sarahlee', metadata={'source': 'Data/users/Sarah Lee.txt'})].\n",
            "*   Be sure to use value selling and avoid spammy words: A sales methodology focusing on how your product or service will provide value to the customer instead of focusing on price or solution.\n",
            "*   The email should be written in British English, Start with \"Hi\" and at the end of the email, say \"Thank you\", and should be written in human language style, and it has to pass through the AI detection tools.\n",
            "*   Email length should be around 100-200 words long.\n",
            "*   Important: Please insert this course URL: https://academy.xyz-edu.com/p/practical-malware-analysis-triage into the body of the email.\n",
            "\n",
            "\n",
            "% INFORMATION ABOUT Sarah Lee:\n",
            "[Document(page_content='Name: Sarah Lee\\nHeadline: Cyber Security Student | Aspiring Cyber Defense Specialist\\n\\nSummary:\\nMotivated Cyber Security student pursuing a career in cyber defense. Adept at identifying and neutralizing cyber threats to safeguard digital assets and privacy.\\n\\nEducation:\\n\\nBachelor of Science in Cyber Security | GHI University | Graduation: August 2024\\nCertifications:\\n\\nCompTIA Security+ | CompTIA | Certified in February 2023\\nSkills:\\n\\nCyber Defense\\nSecurity Monitoring\\nIntrusion Detection\\nThreat Hunting\\nSecurity Tools: Snort, Zeek\\nProgramming: Python, C\\nContact:\\n\\nEmail: sarah.lee@email.com\\nLinkedIn: linkedin.com/in/sarahlee', metadata={'source': 'Data/users/Sarah Lee.txt'})]\n",
            "\n",
            "% INFORMATION ABOUT Practical Malware Analysis & Triage:\n",
            "\n",
            "Practical Malware Analysis & Triage (PMAT) is an immersive learning experience that provides cutting-edge malware analysis techniques through instructional videos and hands-on practical labs. Guided by an instructor named Matt, also known as HuskyHacks, learners will explore the intricacies of analyzing and dissecting malware samples.\n",
            "\n",
            "Practical Malware Analysis & Triage is a program that provides an interactive and engaging learning experience on malware analysis. It offers two options to build malware analysis labs - local virtual machines and a quick-to-launch cloud-based network on AWS. It equips participants with the skills to understand and navigate the complex field of malware analysis globally.\n",
            "\n",
            "# % INCLUDE THE FOLLOWING DETAILS IN YOUR RESPONSE:\n",
            " Necessary: Please insert this link  “https://xyz-edu.com/newsletter/unsubscribe”  into the body of the email.\n",
            "\n",
            "% YOUR RESPONSE:\n",
            "\u001b[0m\n",
            "\n",
            "\u001b[1m> Finished chain.\u001b[0m\n",
            "\n",
            "\u001b[1m> Finished chain.\u001b[0m\n",
            "Hi Sarah,\n",
            "\n",
            "As an aspiring Cyber Defense Specialist, I believe you'll find great value in our course, Practical Malware Analysis & Triage (PMAT). Your interest in identifying and neutralising cyber threats aligns perfectly with what this course offers. \n",
            "\n",
            "PMAT will enhance your current skills in Cyber Defence, Security Monitoring, and Threat Hunting, equipping you with a deeper understanding of malware dissection and analysis. You'll learn from dedicated instructor Matt, aka HuskyHacks, gaining hands-on experience in setting up local virtual machines or cloud-based networks on AWS.\n",
            "\n",
            "Even better, as part of our first 100 students, you'll receive a 20% discount on this course. Here's the link to get started: https://academy.xyz-edu.com/p/practical-malware-analysis-triage.\n",
            "\n",
            "We're confident this course will provide you with the skills needed to excel in your cybersecurity endeavors. If you wish to unsubscribe from our emails, please follow this link: https://xyz-edu.com/newsletter/unsubscribe.\n",
            "\n",
            "Thank you,\n",
            "Greg\n",
            "1 number of mail(s) written\n",
            "All Done\n"
          ]
        }
      ],
      "source": [
        "# Target Person Selection\n",
        "def writemail(dirpath):\n",
        "    target_person, target_Person_details_text = get_target_person(dirpath)\n",
        "    print(\"\\n\\n\")\n",
        "\n",
        "    # Course Details for target person\n",
        "    courses=get_product_details(f\"{dirpath}Course_list/\")\n",
        "    course = courses[0]\n",
        "    courseURL = courses[1]\n",
        "    Product_details_text=courses[2]\n",
        "    print (f\"Course : {course}\")\n",
        "    print (f\"Course URL : {courseURL}\")\n",
        "    print (f'You have {len(Product_details_text)} Course document(s) in your data')\n",
        "\n",
        "    output = chain({\"input_documents\": Product_details_text,\n",
        "                    \"company\": \"XYZ-Edu\", \\\n",
        "                    \"company_information\" : company_information,\n",
        "                    \"sales_rep\" : \"Greg\", \\\n",
        "                    \"course\": course, \\\n",
        "                    \"target_person\": target_person, \\\n",
        "                    \"target_Person_details_text\": target_Person_details_text, \\\n",
        "                    \"courseURL\": courseURL\n",
        "                })\n",
        "\n",
        "    print (output['output_text'])\n",
        "    filename = time.strftime(\"%Y%m%d-%H%M%S\")\n",
        "    f = open(f\"{dirpath}AI_dataset/Spam/{filename}.txt\", \"w\")\n",
        "    f.write(output['output_text'])\n",
        "    f.close()\n",
        "\n",
        "\n",
        "count = input(\"how many mails do you want to write?\")\n",
        "for i in range(int(count)):\n",
        "    writemail(dirpath)\n",
        "    print(f\"{i+1} number of mail(s) written\")\n",
        "print(\"All Done\")\n"
      ]
    }
  ],
  "metadata": {
    "colab": {
      "provenance": []
    },
    "kernelspec": {
      "display_name": "Python 3",
      "name": "python3"
    },
    "language_info": {
      "codemirror_mode": {
        "name": "ipython",
        "version": 3
      },
      "file_extension": ".py",
      "mimetype": "text/x-python",
      "name": "python",
      "nbconvert_exporter": "python",
      "pygments_lexer": "ipython3",
      "version": "3.11.4"
    },
    "orig_nbformat": 4
  },
  "nbformat": 4,
  "nbformat_minor": 0
}
